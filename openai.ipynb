{
 "cells": [
  {
   "cell_type": "code",
   "execution_count": null,
   "id": "05c51e52",
   "metadata": {},
   "outputs": [],
   "source": [
    "# -*- coding: utf-8 -*-\n",
    "import gym\n",
    "import re\n",
    "import numpy as np\n",
    "\n",
    "\n",
    "\n",
    "class OpenAI_MDPToolbox:\n",
    "\n",
    "    \"\"\"Class to convert Discrete Open AI Gym environemnts to MDPToolBox environments. \n",
    "    You can find the list of available gym environments here: https://gym.openai.com/envs/#classic_control\n",
    "    You'll have to look at the source code of the environments for available kwargs; as it is not well documented.  \n",
    "    \"\"\"\n",
    "    \n",
    "    def __init__(self, openAI_env_name:str, render:bool=False, **kwargs):\n",
    "        \"\"\"Create a new instance of the OpenAI_MDPToolbox class\n",
    "        :param openAI_env_name: Valid name of an Open AI Gym env \n",
    "        :type openAI_env_name: str\n",
    "        :param render: whether to render the Open AI gym env\n",
    "        :type rander: boolean \n",
    "        \"\"\"\n",
    "        self.env_name = openAI_env_name\n",
    "    \n",
    "        self.env = gym.make(self.env_name, **kwargs)\n",
    "        self.env.reset()\n",
    "\n",
    "        if render:\n",
    "            self.env.render()\n",
    "        \n",
    "        self.transitions = self.env.P\n",
    "        self.actions = int(re.findall(r'\\d+', str(self.env.action_space))[0])\n",
    "        self.states = int(re.findall(r'\\d+', str(self.env.observation_space))[0])\n",
    "        self.P = np.zeros((self.actions, self.states, self.states))\n",
    "        self.R = np.zeros((self.states, self.actions))\n",
    "        self.convert_PR()\n",
    "        \n",
    "    def convert_PR(self):\n",
    "        \"\"\"Converts the transition probabilities provided by env.P to MDPToolbox-compatible P and R arrays\n",
    "        \"\"\"\n",
    "        for state in range(self.states):\n",
    "            for action in range(self.actions):\n",
    "                for i in range(len(self.transitions[state][action])):\n",
    "                    tran_prob = self.transitions[state][action][i][0]\n",
    "                    state_ = self.transitions[state][action][i][1]\n",
    "                    self.R[state][action] += tran_prob*self.transitions[state][action][i][2]\n",
    "                    self.P[action, state, state_] += tran_prob"
   ]
  }
 ],
 "metadata": {
  "kernelspec": {
   "display_name": "Python 3 (ipykernel)",
   "language": "python",
   "name": "python3"
  },
  "language_info": {
   "codemirror_mode": {
    "name": "ipython",
    "version": 3
   },
   "file_extension": ".py",
   "mimetype": "text/x-python",
   "name": "python",
   "nbconvert_exporter": "python",
   "pygments_lexer": "ipython3",
   "version": "3.9.5"
  }
 },
 "nbformat": 4,
 "nbformat_minor": 5
}
